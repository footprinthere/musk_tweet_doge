{
 "cells": [
  {
   "cell_type": "markdown",
   "metadata": {},
   "source": [
    "# 머스크 트윗이 도지코인 가격에 미치는 영향 (Aggregated)\n",
    "* 프로젝트의 background를 위한 분석\n",
    "* 2021년 1월 ~ 4월의 18개 도지코인 관련 event를 aggregate"
   ]
  },
  {
   "cell_type": "code",
   "execution_count": 1,
   "metadata": {},
   "outputs": [],
   "source": [
    "import os\n",
    "from datetime import timedelta\n",
    "\n",
    "from tqdm import tqdm\n",
    "\n",
    "from data.price import get_price_data\n",
    "from event import PriceAggregator, MUSK_TWEET_TIMES\n",
    "\n",
    "aggregator = PriceAggregator()"
   ]
  },
  {
   "cell_type": "code",
   "execution_count": 2,
   "metadata": {},
   "outputs": [
    {
     "name": "stdout",
     "output_type": "stream",
     "text": [
      "2021-01-28 22:47:00\n",
      "2021-02-04 07:35:00\n",
      "2021-02-06 04:02:00\n",
      "2021-02-07 07:41:00\n",
      "2021-02-07 22:25:00\n",
      "2021-02-10 15:08:00\n",
      "2021-02-11 09:08:00\n",
      "2021-02-14 23:25:00\n",
      "2021-02-21 21:27:00\n",
      "2021-02-24 13:00:00\n",
      "2021-03-01 19:57:00\n",
      "2021-03-06 04:40:00\n",
      "2021-03-13 23:40:00\n",
      "2021-04-01 11:25:00\n",
      "2021-04-09 08:32:00\n",
      "2021-04-15 04:33:00\n",
      "2021-04-16 18:01:00\n",
      "2021-04-28 07:20:00\n"
     ]
    }
   ],
   "source": [
    "# Event times\n",
    "print(*MUSK_TWEET_TIMES, sep=\"\\n\")"
   ]
  },
  {
   "cell_type": "markdown",
   "metadata": {},
   "source": [
    "### Download dataset"
   ]
  },
  {
   "cell_type": "code",
   "execution_count": 3,
   "metadata": {},
   "outputs": [],
   "source": [
    "os.makedirs(\"price_dataset\", exist_ok=True)\n",
    "file_format = os.path.join(\"price_dataset\", \"price_{}.csv\")"
   ]
  },
  {
   "cell_type": "code",
   "execution_count": null,
   "metadata": {},
   "outputs": [],
   "source": [
    "data_timedelta = timedelta(hours=10)\n",
    "\n",
    "for idx, event_time in enumerate(tqdm(MUSK_TWEET_TIMES)):\n",
    "    get_price_data(\n",
    "        start_time=event_time - data_timedelta,\n",
    "        end_time=event_time + data_timedelta,\n",
    "        file_path=file_format.format(idx),\n",
    "        include_volume=True,\n",
    "    )"
   ]
  },
  {
   "cell_type": "markdown",
   "metadata": {},
   "source": [
    "### Calculate log diff"
   ]
  },
  {
   "cell_type": "code",
   "execution_count": null,
   "metadata": {},
   "outputs": [],
   "source": [
    "import pandas as pd \n",
    "from data.sentiment import add_log_diff\n",
    "\n",
    "column_names = [\"DOGEUSDT\", \"DOGEUSDT_volume\"]\n",
    "\n",
    "def convert(path: str) -> None:\n",
    "    df = pd.read_csv(path)\n",
    "    add_log_diff(df, column_names=column_names)\n",
    "    df.to_csv(path, index=False)\n",
    "\n",
    "for i in range(18):\n",
    "    convert(f\"price_dataset/price_{i}.csv\")"
   ]
  },
  {
   "cell_type": "markdown",
   "metadata": {},
   "source": [
    "### Create events with dataset files"
   ]
  },
  {
   "cell_type": "code",
   "execution_count": 4,
   "metadata": {},
   "outputs": [
    {
     "name": "stdout",
     "output_type": "stream",
     "text": [
      "Using saved dataset files\n"
     ]
    },
    {
     "name": "stderr",
     "output_type": "stream",
     "text": [
      "100%|██████████| 18/18 [00:00<00:00, 83.75it/s]\n"
     ]
    }
   ],
   "source": [
    "data_files = [file_format.format(i) for i in range(len(MUSK_TWEET_TIMES))]\n",
    "os.makedirs(\"results_price_single\", exist_ok=True)\n",
    "\n",
    "aggregator.reset()\n",
    "aggregator.use_column(column_name=\"log_diff_DOGEUSDT\")\n",
    "aggregator.create_multiple_events(\n",
    "    event_times=MUSK_TWEET_TIMES,\n",
    "    data_files=data_files,\n",
    "    is_price=False,  # use calculated log diff\n",
    "    event_window=(0, +60),\n",
    "    estimation_window=(-300, -60),\n",
    "    # result_file_format=\"results_price_single/price_{}.xlsx\",\n",
    ")"
   ]
  },
  {
   "cell_type": "markdown",
   "metadata": {},
   "source": [
    "### Aggregate events"
   ]
  },
  {
   "cell_type": "code",
   "execution_count": 5,
   "metadata": {},
   "outputs": [],
   "source": [
    "import os\n",
    "\n",
    "os.makedirs(\"results_price\", exist_ok=True)\n",
    "os.makedirs(\"ar_data\", exist_ok=True)\n",
    "file_name = \"price_aggr_m300_m60_0060\"\n",
    "\n",
    "result = aggregator.aggregate(\n",
    "    result_file=f\"results_price/{file_name}.xlsx\",\n",
    "    asterisks=False,\n",
    "    rounding=8\n",
    ")\n",
    "result.to_csv(f\"ar_data/{file_name}.csv\", index=False)"
   ]
  },
  {
   "cell_type": "markdown",
   "metadata": {},
   "source": [
    "## Visualize price data"
   ]
  },
  {
   "cell_type": "code",
   "execution_count": null,
   "metadata": {},
   "outputs": [],
   "source": [
    "import pandas as pd\n",
    "import numpy as np\n",
    "import matplotlib.pyplot as plt\n",
    "from event.musk import MUSK_TWEET_TIMES\n",
    "\n",
    "for i in range(18):\n",
    "    df = pd.read_csv(f\"price_dataset/price_{i}.csv\")\n",
    "    event_time = MUSK_TWEET_TIMES[i]\n",
    "\n",
    "    markers_on = []\n",
    "    for idx, row in df.iterrows():\n",
    "        if row[\"date\"] == event_time:\n",
    "            markers_on.append(idx)\n",
    "\n",
    "    markers_on = [601]\n",
    "\n",
    "    plt.plot(np.arange(len(df[\"DOGEUSDT\"])), df[\"DOGEUSDT\"], markevery=markers_on)\n",
    "    plt.show()"
   ]
  }
 ],
 "metadata": {
  "kernelspec": {
   "display_name": "musk",
   "language": "python",
   "name": "python3"
  },
  "language_info": {
   "codemirror_mode": {
    "name": "ipython",
    "version": 3
   },
   "file_extension": ".py",
   "mimetype": "text/x-python",
   "name": "python",
   "nbconvert_exporter": "python",
   "pygments_lexer": "ipython3",
   "version": "3.10.14"
  }
 },
 "nbformat": 4,
 "nbformat_minor": 2
}
