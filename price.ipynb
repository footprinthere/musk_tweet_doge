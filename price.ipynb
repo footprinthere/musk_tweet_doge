{
 "cells": [
  {
   "cell_type": "markdown",
   "metadata": {},
   "source": [
    "# 머스크 트윗이 도지코인 가격에 미치는 영향\n",
    "* 프로젝트의 background를 위한 분석\n",
    "* **2021년 2월 4일 08시 35분** 업로드된 트윗을 event로 삼음 (Ante의 event 9)"
   ]
  },
  {
   "cell_type": "markdown",
   "metadata": {},
   "source": [
    "# Load price data"
   ]
  },
  {
   "cell_type": "code",
   "execution_count": 2,
   "metadata": {},
   "outputs": [],
   "source": [
    "from data.price import get_price_data\n",
    "from datetime import datetime\n",
    "\n",
    "df = get_price_data(\n",
    "    start_time=datetime(2021, 2, 3),\n",
    "    end_time=datetime(2021, 2, 5),\n",
    "    interval=\"1m\",\n",
    "    include_volume=True,\n",
    "    file_path=\"price.csv\",  # save as file\n",
    "    verbose=True,\n",
    ")\n",
    "\n",
    "# # Or, if you already have downloaded the data\n",
    "# import pandas as pd\n",
    "\n",
    "# df = pd.read_csv(\"price.csv\")"
   ]
  },
  {
   "cell_type": "code",
   "execution_count": 3,
   "metadata": {},
   "outputs": [
    {
     "name": "stdout",
     "output_type": "stream",
     "text": [
      "2881\n"
     ]
    },
    {
     "data": {
      "text/html": [
       "<div>\n",
       "<style scoped>\n",
       "    .dataframe tbody tr th:only-of-type {\n",
       "        vertical-align: middle;\n",
       "    }\n",
       "\n",
       "    .dataframe tbody tr th {\n",
       "        vertical-align: top;\n",
       "    }\n",
       "\n",
       "    .dataframe thead th {\n",
       "        text-align: right;\n",
       "    }\n",
       "</style>\n",
       "<table border=\"1\" class=\"dataframe\">\n",
       "  <thead>\n",
       "    <tr style=\"text-align: right;\">\n",
       "      <th></th>\n",
       "      <th>date</th>\n",
       "      <th>DOGEUSDT</th>\n",
       "      <th>DOGEUSDT_volume</th>\n",
       "    </tr>\n",
       "  </thead>\n",
       "  <tbody>\n",
       "    <tr>\n",
       "      <th>146</th>\n",
       "      <td>2021-02-03T02:26:00</td>\n",
       "      <td>0.031109</td>\n",
       "      <td>3792209.0</td>\n",
       "    </tr>\n",
       "    <tr>\n",
       "      <th>10</th>\n",
       "      <td>2021-02-03T00:10:00</td>\n",
       "      <td>0.031651</td>\n",
       "      <td>5900961.0</td>\n",
       "    </tr>\n",
       "    <tr>\n",
       "      <th>23</th>\n",
       "      <td>2021-02-03T00:23:00</td>\n",
       "      <td>0.031300</td>\n",
       "      <td>16806146.0</td>\n",
       "    </tr>\n",
       "    <tr>\n",
       "      <th>21</th>\n",
       "      <td>2021-02-03T00:21:00</td>\n",
       "      <td>0.031395</td>\n",
       "      <td>4838802.0</td>\n",
       "    </tr>\n",
       "    <tr>\n",
       "      <th>199</th>\n",
       "      <td>2021-02-03T03:19:00</td>\n",
       "      <td>0.030880</td>\n",
       "      <td>4532687.0</td>\n",
       "    </tr>\n",
       "  </tbody>\n",
       "</table>\n",
       "</div>"
      ],
      "text/plain": [
       "                    date  DOGEUSDT  DOGEUSDT_volume\n",
       "146  2021-02-03T02:26:00  0.031109        3792209.0\n",
       "10   2021-02-03T00:10:00  0.031651        5900961.0\n",
       "23   2021-02-03T00:23:00  0.031300       16806146.0\n",
       "21   2021-02-03T00:21:00  0.031395        4838802.0\n",
       "199  2021-02-03T03:19:00  0.030880        4532687.0"
      ]
     },
     "execution_count": 3,
     "metadata": {},
     "output_type": "execute_result"
    }
   ],
   "source": [
    "print(len(df))\n",
    "df.sample(n=5)"
   ]
  },
  {
   "cell_type": "code",
   "execution_count": 4,
   "metadata": {},
   "outputs": [
    {
     "name": "stdout",
     "output_type": "stream",
     "text": [
      "<class 'pandas.core.frame.DataFrame'>\n",
      "RangeIndex: 2881 entries, 0 to 2880\n",
      "Data columns (total 3 columns):\n",
      " #   Column           Non-Null Count  Dtype  \n",
      "---  ------           --------------  -----  \n",
      " 0   date             2881 non-null   object \n",
      " 1   DOGEUSDT         2881 non-null   float64\n",
      " 2   DOGEUSDT_volume  2881 non-null   float64\n",
      "dtypes: float64(2), object(1)\n",
      "memory usage: 67.6+ KB\n"
     ]
    }
   ],
   "source": [
    "df.info()"
   ]
  },
  {
   "cell_type": "markdown",
   "metadata": {},
   "source": [
    "# Event study\n",
    "* [constant mean model](https://lemairejean-baptiste.github.io/eventstudy/api/eventstudy.Single.constant_mean.html#eventstudy.Single.constant_mean) 사용\n",
    "* [example code](https://github.com/LemaireJean-Baptiste/eventstudy/blob/master/example/Untitled.ipynb)"
   ]
  },
  {
   "cell_type": "code",
   "execution_count": 5,
   "metadata": {},
   "outputs": [],
   "source": [
    "from eventstudy import Single\n",
    "import numpy as np\n",
    "\n",
    "Single.import_returns(\n",
    "    \"price.csv\",\n",
    "    is_price=True,\n",
    "    log_return=True,\n",
    "    date_format=\"%Y-%m-%dT%H:%M:%S\",\n",
    ")"
   ]
  },
  {
   "cell_type": "code",
   "execution_count": 6,
   "metadata": {},
   "outputs": [],
   "source": [
    "event = Single.constant_mean(\n",
    "    security_ticker = 'DOGEUSDT',\n",
    "    event_date = np.datetime64('2021-02-04 08:35:00'),\n",
    "    event_window = (0, +10),\n",
    "    estimation_size=360,\n",
    ")"
   ]
  },
  {
   "cell_type": "code",
   "execution_count": 7,
   "metadata": {},
   "outputs": [],
   "source": [
    "from eventstudy import excelExporter\n",
    "# not used directly, but must be imported\n",
    "\n",
    "event.to_excel(\"result_0_10.xlsx\")"
   ]
  },
  {
   "cell_type": "code",
   "execution_count": 8,
   "metadata": {},
   "outputs": [
    {
     "data": {
      "image/png": "[encoded data removed]",
      "text/plain": [
       "<Figure size 432x288 with 1 Axes>"
      ]
     },
     "execution_count": 8,
     "metadata": {},
     "output_type": "execute_result"
    },
    {
     "data": {
      "image/png": "[encoded data removed]",
      "text/plain": [
       "<Figure size 432x288 with 1 Axes>"
      ]
     },
     "metadata": {
      "needs_background": "light"
     },
     "output_type": "display_data"
    }
   ],
   "source": [
    "event.plot()"
   ]
  }
 ],
 "metadata": {
  "kernelspec": {
   "display_name": "musk",
   "language": "python",
   "name": "python3"
  },
  "language_info": {
   "codemirror_mode": {
    "name": "ipython",
    "version": 3
   },
   "file_extension": ".py",
   "mimetype": "text/x-python",
   "name": "python",
   "nbconvert_exporter": "python",
   "pygments_lexer": "ipython3",
   "version": "3.10.14"
  }
 },
 "nbformat": 4,
 "nbformat_minor": 2
}
