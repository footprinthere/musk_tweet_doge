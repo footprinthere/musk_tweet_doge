{
 "cells": [
  {
   "cell_type": "code",
   "execution_count": 126,
   "id": "14e70877",
   "metadata": {},
   "outputs": [],
   "source": [
    "import pandas as pd\n",
    "import numpy as np\n",
    "import matplotlib.pyplot as plt"
   ]
  },
  {
   "cell_type": "code",
   "execution_count": 138,
   "id": "65bd57ee",
   "metadata": {},
   "outputs": [
    {
     "name": "stderr",
     "output_type": "stream",
     "text": [
      "C:\\Users\\j7206\\anaconda3\\lib\\site-packages\\IPython\\core\\interactiveshell.py:3165: DtypeWarning: Columns (10) have mixed types.Specify dtype option on import or set low_memory=False.\n",
      "  has_raised = await self.run_ast_nodes(code_ast.body, cell_name,\n"
     ]
    }
   ],
   "source": [
    "csv_test=pd.read_csv('C:\\\\Users\\\\j7206\\\\Downloads\\\\labeled_tweet_data_2021-02-04.csv')"
   ]
  },
  {
   "cell_type": "code",
   "execution_count": 140,
   "id": "2ce41f1a",
   "metadata": {},
   "outputs": [],
   "source": [
    "csv_test=csv_test[csv_test.name!='Elon Musk']"
   ]
  },
  {
   "cell_type": "code",
   "execution_count": 141,
   "id": "a0aca311",
   "metadata": {},
   "outputs": [],
   "source": [
    "csv_test=csv_test[['created_at','likes_count','sentiment']]"
   ]
  },
  {
   "cell_type": "code",
   "execution_count": 142,
   "id": "1a865207",
   "metadata": {},
   "outputs": [],
   "source": [
    "csv_test=csv_test.loc[::-1].reset_index(drop=True)"
   ]
  },
  {
   "cell_type": "code",
   "execution_count": 143,
   "id": "98520fc7",
   "metadata": {},
   "outputs": [
    {
     "data": {
      "text/html": [
       "<div>\n",
       "<style scoped>\n",
       "    .dataframe tbody tr th:only-of-type {\n",
       "        vertical-align: middle;\n",
       "    }\n",
       "\n",
       "    .dataframe tbody tr th {\n",
       "        vertical-align: top;\n",
       "    }\n",
       "\n",
       "    .dataframe thead th {\n",
       "        text-align: right;\n",
       "    }\n",
       "</style>\n",
       "<table border=\"1\" class=\"dataframe\">\n",
       "  <thead>\n",
       "    <tr style=\"text-align: right;\">\n",
       "      <th></th>\n",
       "      <th>created_at</th>\n",
       "      <th>likes_count</th>\n",
       "      <th>sentiment</th>\n",
       "    </tr>\n",
       "  </thead>\n",
       "  <tbody>\n",
       "    <tr>\n",
       "      <th>9663</th>\n",
       "      <td>2021-02-04 05:07:56+00:00</td>\n",
       "      <td>5.0</td>\n",
       "      <td>positive</td>\n",
       "    </tr>\n",
       "    <tr>\n",
       "      <th>9664</th>\n",
       "      <td>2021-02-04 05:07:56+00:00</td>\n",
       "      <td>4.0</td>\n",
       "      <td>positive</td>\n",
       "    </tr>\n",
       "    <tr>\n",
       "      <th>12305</th>\n",
       "      <td>2021-02-04 06:07:56+00:00</td>\n",
       "      <td>2.0</td>\n",
       "      <td>positive</td>\n",
       "    </tr>\n",
       "    <tr>\n",
       "      <th>17693</th>\n",
       "      <td>2021-02-04 07:56:00+00:00</td>\n",
       "      <td>4.0</td>\n",
       "      <td>positive</td>\n",
       "    </tr>\n",
       "    <tr>\n",
       "      <th>17694</th>\n",
       "      <td>2021-02-04 07:56:00+00:00</td>\n",
       "      <td>2.0</td>\n",
       "      <td>positive</td>\n",
       "    </tr>\n",
       "    <tr>\n",
       "      <th>...</th>\n",
       "      <td>...</td>\n",
       "      <td>...</td>\n",
       "      <td>...</td>\n",
       "    </tr>\n",
       "    <tr>\n",
       "      <th>74348</th>\n",
       "      <td>2021-02-04 17:07:56+00:00</td>\n",
       "      <td>0.0</td>\n",
       "      <td>positive</td>\n",
       "    </tr>\n",
       "    <tr>\n",
       "      <th>78322</th>\n",
       "      <td>2021-02-04 18:07:56+00:00</td>\n",
       "      <td>12.0</td>\n",
       "      <td>positive</td>\n",
       "    </tr>\n",
       "    <tr>\n",
       "      <th>81770</th>\n",
       "      <td>2021-02-04 19:07:56+00:00</td>\n",
       "      <td>0.0</td>\n",
       "      <td>positive</td>\n",
       "    </tr>\n",
       "    <tr>\n",
       "      <th>81771</th>\n",
       "      <td>2021-02-04 19:07:56+00:00</td>\n",
       "      <td>3.0</td>\n",
       "      <td>positive</td>\n",
       "    </tr>\n",
       "    <tr>\n",
       "      <th>90718</th>\n",
       "      <td>2021-02-04 22:07:56+00:00</td>\n",
       "      <td>24.0</td>\n",
       "      <td>negative</td>\n",
       "    </tr>\n",
       "  </tbody>\n",
       "</table>\n",
       "<p>192 rows × 3 columns</p>\n",
       "</div>"
      ],
      "text/plain": [
       "                      created_at  likes_count sentiment\n",
       "9663   2021-02-04 05:07:56+00:00          5.0  positive\n",
       "9664   2021-02-04 05:07:56+00:00          4.0  positive\n",
       "12305  2021-02-04 06:07:56+00:00          2.0  positive\n",
       "17693  2021-02-04 07:56:00+00:00          4.0  positive\n",
       "17694  2021-02-04 07:56:00+00:00          2.0  positive\n",
       "...                          ...          ...       ...\n",
       "74348  2021-02-04 17:07:56+00:00          0.0  positive\n",
       "78322  2021-02-04 18:07:56+00:00         12.0  positive\n",
       "81770  2021-02-04 19:07:56+00:00          0.0  positive\n",
       "81771  2021-02-04 19:07:56+00:00          3.0  positive\n",
       "90718  2021-02-04 22:07:56+00:00         24.0  negative\n",
       "\n",
       "[192 rows x 3 columns]"
      ]
     },
     "execution_count": 143,
     "metadata": {},
     "output_type": "execute_result"
    }
   ],
   "source": [
    "csv_test[csv_test['created_at'].str.contains('07:56')]"
   ]
  },
  {
   "cell_type": "code",
   "execution_count": 144,
   "id": "7612fe1f",
   "metadata": {},
   "outputs": [],
   "source": [
    "csv_test=csv_test.replace('positive', 1)\n",
    "csv_test=csv_test.replace('neutral', 0)\n",
    "csv_test=csv_test.replace('negative', -1)\n"
   ]
  },
  {
   "cell_type": "code",
   "execution_count": 145,
   "id": "f0df3a9a",
   "metadata": {},
   "outputs": [],
   "source": [
    "csv_test['created_at']=csv_test['created_at'].str.slice(11,19)"
   ]
  },
  {
   "cell_type": "code",
   "execution_count": 146,
   "id": "8cf663f1",
   "metadata": {},
   "outputs": [],
   "source": [
    "csv_test['created_at']=csv_test['created_at'].str.slice(0,5)"
   ]
  },
  {
   "cell_type": "code",
   "execution_count": 147,
   "id": "af56c71f",
   "metadata": {},
   "outputs": [],
   "source": [
    "csv_test=csv_test.iloc[13795:17694]"
   ]
  },
  {
   "cell_type": "code",
   "execution_count": 149,
   "id": "44c1afcf",
   "metadata": {},
   "outputs": [],
   "source": [
    "csv_test=csv_test.loc[::-1].reset_index(drop=True)"
   ]
  },
  {
   "cell_type": "code",
   "execution_count": 150,
   "id": "5550f959",
   "metadata": {},
   "outputs": [
    {
     "data": {
      "text/plain": [
       "'07:15'"
      ]
     },
     "execution_count": 150,
     "metadata": {},
     "output_type": "execute_result"
    }
   ],
   "source": [
    "csv_test['created_at'][0]"
   ]
  },
  {
   "cell_type": "code",
   "execution_count": 175,
   "id": "c456ed56",
   "metadata": {},
   "outputs": [],
   "source": [
    "result=[]\n",
    "time=[]\n",
    "\n",
    "mean=0\n",
    "for k in range(41):\n",
    "    n=0\n",
    "    x=0\n",
    "    for i in range(3898):\n",
    "        if csv_test['created_at'][i]=='07:%d' %(k+15):\n",
    "            #x+=csv_test['sentiment'][i]\n",
    "            #n+=1\n",
    "            x+=csv_test['likes_count'][i]*csv_test['sentiment'][i]\n",
    "            n+=csv_test['likes_count'][i]\n",
    "    time.append(k)\n",
    "    result.append(x/n)\n",
    "    if k<20:\n",
    "        mean+=x/n\n",
    "mean=mean/20"
   ]
  },
  {
   "cell_type": "code",
   "execution_count": 176,
   "id": "e5ada18f",
   "metadata": {},
   "outputs": [
    {
     "data": {
      "text/plain": [
       "[<matplotlib.lines.Line2D at 0x1baae78e130>]"
      ]
     },
     "execution_count": 176,
     "metadata": {},
     "output_type": "execute_result"
    },
    {
     "data": {
      "image/png": "[encoded data removed]",
      "text/plain": [
       "<Figure size 432x288 with 1 Axes>"
      ]
     },
     "metadata": {
      "needs_background": "light"
     },
     "output_type": "display_data"
    }
   ],
   "source": [
    "plt.scatter(time,result)\n",
    "plt.plot([0,40],[mean,mean])\n",
    "plt.plot(time,result)"
   ]
  }
 ],
 "metadata": {
  "kernelspec": {
   "display_name": "Python 3",
   "language": "python",
   "name": "python3"
  },
  "language_info": {
   "codemirror_mode": {
    "name": "ipython",
    "version": 3
   },
   "file_extension": ".py",
   "mimetype": "text/x-python",
   "name": "python",
   "nbconvert_exporter": "python",
   "pygments_lexer": "ipython3",
   "version": "3.8.8"
  }
 },
 "nbformat": 4,
 "nbformat_minor": 5
}
