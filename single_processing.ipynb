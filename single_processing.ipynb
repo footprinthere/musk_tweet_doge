{
 "cells": [
  {
   "cell_type": "markdown",
   "metadata": {},
   "source": [
    "# Processing single-event data\n",
    "* 각 event마다 코인 가격과 감정지수의 AR을 구한 결과를 하나의 파일로 병합"
   ]
  },
  {
   "cell_type": "code",
   "execution_count": null,
   "metadata": {},
   "outputs": [],
   "source": [
    "import pandas as pd"
   ]
  },
  {
   "cell_type": "code",
   "execution_count": null,
   "metadata": {},
   "outputs": [],
   "source": [
    "# load data file\n",
    "price_files = []\n",
    "for i in range(18):\n",
    "    data = pd.read_csv(f\"results_price_single/price_{i}.xlsx\")\n",
    "    price_files.append(data)\n",
    "\n",
    "sent_files = []\n",
    "for i in range(18):\n",
    "    data = pd.read_csv(f\"results_sent_single/sent_{i}.xlsx\")\n",
    "    sent_files.append(data)"
   ]
  },
  {
   "cell_type": "code",
   "execution_count": null,
   "metadata": {},
   "outputs": [],
   "source": [
    "data = []\n",
    "\n",
    "for idx, (price_entry, sent_entry) in enumerate(zip(price_files, sent_files)):\n",
    "    for i in range(11):\n",
    "        data.append({\n",
    "            \"AR_price\": price_entry[\"AR\"][i],\n",
    "            \"CAR_price\": price_entry[\"CAR\"][i],\n",
    "            \"AR_sent\": sent_entry[\"AR\"][i],\n",
    "            \"CAR_sent\": sent_entry[\"CAR\"][i],\n",
    "            \"event_idx\": idx,\n",
    "            \"timestamp\": i,\n",
    "        })\n",
    "\n",
    "df = pd.DataFrame(data)\n",
    "df.to_csv(\"results_combined_single.csv\", index=True)\n"
   ]
  },
  {
   "cell_type": "code",
   "execution_count": null,
   "metadata": {},
   "outputs": [],
   "source": [
    "df.head()"
   ]
  }
 ],
 "metadata": {
  "kernelspec": {
   "display_name": "musk",
   "language": "python",
   "name": "python3"
  },
  "language_info": {
   "codemirror_mode": {
    "name": "ipython",
    "version": 3
   },
   "file_extension": ".py",
   "mimetype": "text/x-python",
   "name": "python",
   "nbconvert_exporter": "python",
   "pygments_lexer": "ipython3",
   "version": "3.10.14"
  }
 },
 "nbformat": 4,
 "nbformat_minor": 2
}
