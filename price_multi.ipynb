{
 "cells": [
  {
   "cell_type": "markdown",
   "metadata": {},
   "source": [
    "# 머스크 트윗이 도지코인 가격에 미치는 영향 (Aggregated)\n",
    "* 프로젝트의 background를 위한 분석\n",
    "* 2021년 1월 ~ 4월의 18개 도지코인 관련 event를 aggregate"
   ]
  },
  {
   "cell_type": "code",
   "execution_count": 2,
   "metadata": {},
   "outputs": [
    {
     "name": "stderr",
     "output_type": "stream",
     "text": [
      "100%|██████████| 18/18 [00:24<00:00,  1.34s/it]\n"
     ]
    }
   ],
   "source": [
    "from datetime import timedelta\n",
    "from event import PriceAggregator, MUSK_TWEET_TIMES\n",
    "\n",
    "aggregator = PriceAggregator()\n",
    "aggregator.create_multiple_price_events(\n",
    "    event_times=MUSK_TWEET_TIMES,\n",
    "    data_time_delta=timedelta(days=1),\n",
    "    event_window=(0, +20),\n",
    "    estimation_window=(-360, -60),\n",
    ")"
   ]
  },
  {
   "cell_type": "code",
   "execution_count": 3,
   "metadata": {},
   "outputs": [],
   "source": [
    "import os\n",
    "\n",
    "os.makedirs(\"results\", exist_ok=True)\n",
    "aggregator.aggregate(result_file=\"results/price_aggr_m360_m60.xlsx\")"
   ]
  },
  {
   "cell_type": "code",
   "execution_count": null,
   "metadata": {},
   "outputs": [],
   "source": []
  }
 ],
 "metadata": {
  "kernelspec": {
   "display_name": "musk",
   "language": "python",
   "name": "python3"
  },
  "language_info": {
   "codemirror_mode": {
    "name": "ipython",
    "version": 3
   },
   "file_extension": ".py",
   "mimetype": "text/x-python",
   "name": "python",
   "nbconvert_exporter": "python",
   "pygments_lexer": "ipython3",
   "version": "3.10.14"
  }
 },
 "nbformat": 4,
 "nbformat_minor": 2
}
