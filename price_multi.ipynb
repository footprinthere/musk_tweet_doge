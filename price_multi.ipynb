{
 "cells": [
  {
   "cell_type": "markdown",
   "metadata": {},
   "source": [
    "# 머스크 트윗이 도지코인 가격에 미치는 영향 (Aggregated)\n",
    "* 프로젝트의 background를 위한 분석\n",
    "* 2021년 1월 ~ 4월의 18개 도지코인 관련 event를 aggregate"
   ]
  },
  {
   "cell_type": "code",
   "execution_count": 1,
   "metadata": {},
   "outputs": [],
   "source": [
    "import os\n",
    "from datetime import timedelta\n",
    "\n",
    "from tqdm import tqdm\n",
    "\n",
    "from data.price import get_price_data\n",
    "from event import PriceAggregator, MUSK_TWEET_TIMES\n",
    "\n",
    "aggregator = PriceAggregator()"
   ]
  },
  {
   "cell_type": "code",
   "execution_count": 2,
   "metadata": {},
   "outputs": [
    {
     "name": "stdout",
     "output_type": "stream",
     "text": [
      "2021-01-28 22:47:00\n",
      "2021-02-04 07:35:00\n",
      "2021-02-06 04:02:00\n",
      "2021-02-07 07:41:00\n",
      "2021-02-07 22:25:00\n",
      "2021-02-10 15:08:00\n",
      "2021-02-11 09:08:00\n",
      "2021-02-14 23:25:00\n",
      "2021-02-21 21:27:00\n",
      "2021-02-24 13:00:00\n",
      "2021-03-01 19:57:00\n",
      "2021-03-06 04:40:00\n",
      "2021-03-13 23:40:00\n",
      "2021-04-01 11:25:00\n",
      "2021-04-09 08:32:00\n",
      "2021-04-15 04:33:00\n",
      "2021-04-16 18:01:00\n",
      "2021-04-28 07:20:00\n"
     ]
    }
   ],
   "source": [
    "# Event times\n",
    "print(*MUSK_TWEET_TIMES, sep=\"\\n\")"
   ]
  },
  {
   "cell_type": "markdown",
   "metadata": {},
   "source": [
    "### Create events without saving dataset\n",
    "* 실행 후 바로 aggregate로 진행"
   ]
  },
  {
   "cell_type": "code",
   "execution_count": 3,
   "metadata": {},
   "outputs": [
    {
     "name": "stderr",
     "output_type": "stream",
     "text": [
      "100%|██████████| 18/18 [00:19<00:00,  1.06s/it]\n"
     ]
    }
   ],
   "source": [
    "aggregator.reset()\n",
    "aggregator.create_multiple_events(\n",
    "    event_times=MUSK_TWEET_TIMES,\n",
    "    data_time_delta=timedelta(hours=10),\n",
    "    event_window=(-50, +50),\n",
    "    estimation_window=(-360, -60),\n",
    ")"
   ]
  },
  {
   "cell_type": "markdown",
   "metadata": {},
   "source": [
    "### Download dataset"
   ]
  },
  {
   "cell_type": "code",
   "execution_count": null,
   "metadata": {},
   "outputs": [],
   "source": [
    "os.makedirs(\"price_dataset\", exist_ok=True)\n",
    "file_format = os.path.join(\"dataset\", \"price_{}.csv\")"
   ]
  },
  {
   "cell_type": "code",
   "execution_count": null,
   "metadata": {},
   "outputs": [],
   "source": [
    "data_timedelta = timedelta(days=1)\n",
    "\n",
    "for idx, event_time in enumerate(tqdm(MUSK_TWEET_TIMES)):\n",
    "    get_price_data(\n",
    "        start_time=event_time - data_timedelta,\n",
    "        end_time=event_time + data_timedelta,\n",
    "        file_path=file_format.format(idx),\n",
    "    )"
   ]
  },
  {
   "cell_type": "markdown",
   "metadata": {},
   "source": [
    "### Create events with dataset files"
   ]
  },
  {
   "cell_type": "code",
   "execution_count": null,
   "metadata": {},
   "outputs": [],
   "source": [
    "data_files = [file_format.format(i) for i in range(len(MUSK_TWEET_TIMES))]\n",
    "\n",
    "aggregator.reset()\n",
    "aggregator.create_multiple_events(\n",
    "    event_times=MUSK_TWEET_TIMES,\n",
    "    data_files=data_files,\n",
    "    event_window=(0, +60),\n",
    "    estimation_window=(-360, -60),\n",
    ")"
   ]
  },
  {
   "cell_type": "markdown",
   "metadata": {},
   "source": [
    "### Aggregate events"
   ]
  },
  {
   "cell_type": "code",
   "execution_count": 4,
   "metadata": {},
   "outputs": [],
   "source": [
    "import os\n",
    "\n",
    "os.makedirs(\"results\", exist_ok=True)\n",
    "result = aggregator.aggregate(result_file=\"results/price_aggr_m360_m60_5050.xlsx\")"
   ]
  }
 ],
 "metadata": {
  "kernelspec": {
   "display_name": "musk",
   "language": "python",
   "name": "python3"
  },
  "language_info": {
   "codemirror_mode": {
    "name": "ipython",
    "version": 3
   },
   "file_extension": ".py",
   "mimetype": "text/x-python",
   "name": "python",
   "nbconvert_exporter": "python",
   "pygments_lexer": "ipython3",
   "version": "3.10.14"
  }
 },
 "nbformat": 4,
 "nbformat_minor": 2
}
