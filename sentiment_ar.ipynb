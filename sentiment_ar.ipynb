{
 "cells": [
  {
   "cell_type": "markdown",
   "metadata": {},
   "source": [
    "# 감정의 AR 구하기"
   ]
  },
  {
   "cell_type": "markdown",
   "metadata": {},
   "source": [
    "### Preprocess dataset"
   ]
  },
  {
   "cell_type": "code",
   "execution_count": null,
   "metadata": {},
   "outputs": [],
   "source": [
    "import os\n",
    "import pandas as pd\n",
    "from data.sentiment import *\n",
    "\n",
    "\n",
    "# FIXME: Fill here\n",
    "data_dir = \"\"\n",
    "processed_data_dir = \"\"\n",
    "data_files: list[str] = []  \n",
    "\n",
    "columns_to_process = [\n",
    "    ColumnName.AVERAGE,\n",
    "    ColumnName.WEIGHTED_AVERAGE,\n",
    "    ColumnName.BULLISHNESS,\n",
    "    ColumnName.POSITIVE_RATIO,\n",
    "    ColumnName.NEGATIVE_RATIO,\n",
    "    ColumnName.CUMULATED_POSITIVE_RATIO,\n",
    "    ColumnName.CUMULATED_NEGATIVE_RATIO,\n",
    "]\n",
    "\n",
    "for file in data_files:\n",
    "    path = os.path.join(data_dir, file)\n",
    "    df = pd.read_csv(path)\n",
    "\n",
    "    add_bullishness(df)\n",
    "    add_ratio(df)\n",
    "\n",
    "    add_diff(df, columns_to_process)        # type: ignore\n",
    "    add_log_diff(df, columns_to_process)    # type: ignore\n",
    "\n",
    "    df.to_csv(os.path.join(processed_data_dir, file))"
   ]
  },
  {
   "cell_type": "markdown",
   "metadata": {},
   "source": [
    "### Create events with saved data files"
   ]
  },
  {
   "cell_type": "code",
   "execution_count": null,
   "metadata": {},
   "outputs": [],
   "source": [
    "from event import SentimentAggregator, MUSK_TWEET_TIMES\n",
    "\n",
    "\n",
    "aggregator = SentimentAggregator()\n",
    "\n",
    "aggregator.create_multiple_events(\n",
    "    event_times=MUSK_TWEET_TIMES,\n",
    "    data_files=data_files,\n",
    "    event_window=(-50, +50),\n",
    "    estimation_window= (-360, -60),   \n",
    ")"
   ]
  },
  {
   "cell_type": "markdown",
   "metadata": {},
   "source": [
    "### Aggregate events"
   ]
  },
  {
   "cell_type": "code",
   "execution_count": null,
   "metadata": {},
   "outputs": [],
   "source": [
    "import os\n",
    "\n",
    "os.makedirs(\"results_sent\", exist_ok=True)\n",
    "aggregator.aggregate(result_file=\"results_sent/sentiment_results.csv\")"
   ]
  },
  {
   "cell_type": "code",
   "execution_count": null,
   "metadata": {},
   "outputs": [],
   "source": []
  }
 ],
 "metadata": {
  "kernelspec": {
   "display_name": "musk",
   "language": "python",
   "name": "python3"
  },
  "language_info": {
   "codemirror_mode": {
    "name": "ipython",
    "version": 3
   },
   "file_extension": ".py",
   "mimetype": "text/x-python",
   "name": "python",
   "nbconvert_exporter": "python",
   "pygments_lexer": "ipython3",
   "version": "3.10.14"
  }
 },
 "nbformat": 4,
 "nbformat_minor": 2
}
