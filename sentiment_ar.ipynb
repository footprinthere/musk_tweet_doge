{
 "cells": [
  {
   "cell_type": "markdown",
   "metadata": {},
   "source": [
    "# 감정의 AR 구하기"
   ]
  },
  {
   "cell_type": "markdown",
   "metadata": {},
   "source": [
    "### Preprocess dataset"
   ]
  },
  {
   "cell_type": "code",
   "execution_count": null,
   "metadata": {},
   "outputs": [],
   "source": [
    "import os\n",
    "import pandas as pd\n",
    "from data.sentiment import *\n",
    "from event.musk import MUSK_TWEET_TIMES\n",
    "\n",
    "data_dir = \"sentiment_dataset\"\n",
    "processed_data_dir = \"sentiment_dataset_processed\"\n",
    "data_files: list[str] = [d.strftime(\"sentiment_%Y-%m-%d.csv\") for d in MUSK_TWEET_TIMES]  "
   ]
  },
  {
   "cell_type": "code",
   "execution_count": null,
   "metadata": {},
   "outputs": [],
   "source": [
    "# Process data\n",
    "\n",
    "os.makedirs(processed_data_dir, exist_ok=True)\n",
    "\n",
    "columns_to_process = [\n",
    "    ColumnName.N_TOTAL,\n",
    "    ColumnName.POS_NEG_DIFF,\n",
    "    ColumnName.AVERAGE,\n",
    "    ColumnName.WEIGHTED_AVERAGE,\n",
    "    ColumnName.BULLISHNESS,\n",
    "    ColumnName.POSITIVE_RATIO,\n",
    "    ColumnName.NEGATIVE_RATIO,\n",
    "    ColumnName.CUMULATED_POSITIVE_RATIO,\n",
    "    ColumnName.CUMULATED_NEGATIVE_RATIO,\n",
    "]\n",
    "\n",
    "for file in data_files:\n",
    "    path = os.path.join(data_dir, file)\n",
    "    df = pd.read_csv(path)\n",
    "\n",
    "    add_bullishness(df)\n",
    "    add_pos_neg_diff(df)\n",
    "    add_ratio(df)\n",
    "\n",
    "    add_diff(df, columns_to_process)        # type: ignore\n",
    "    # add_log_diff(df, columns_to_process)    # type: ignore\n",
    "\n",
    "    df.to_csv(os.path.join(processed_data_dir, file), index=False)"
   ]
  },
  {
   "cell_type": "code",
   "execution_count": null,
   "metadata": {},
   "outputs": [],
   "source": [
    "data_files = [os.path.join(processed_data_dir, file) for file in data_files]"
   ]
  },
  {
   "cell_type": "code",
   "execution_count": null,
   "metadata": {},
   "outputs": [],
   "source": [
    "# eventstudy의 요구에 맞게 column 이름 바꾸기\n",
    "\n",
    "import pandas as pd\n",
    "\n",
    "for path in set(data_files):\n",
    "    df = pd.read_csv(path)\n",
    "    df.rename(columns={\"time\": \"date\"}, inplace=True)\n",
    "    df.to_csv(path, index=False)"
   ]
  },
  {
   "cell_type": "markdown",
   "metadata": {},
   "source": [
    "### Create events with saved data files"
   ]
  },
  {
   "cell_type": "code",
   "execution_count": null,
   "metadata": {},
   "outputs": [],
   "source": [
    "from event import SentimentAggregator, MUSK_TWEET_TIMES\n",
    "\n",
    "os.makedirs(\"results_sent_single\", exist_ok=True)\n",
    "\n",
    "aggregator = SentimentAggregator()\n",
    "aggregator.reset()\n",
    "aggregator.use_column(\"diff_pos_neg_diff\")\n",
    "\n",
    "aggregator.create_multiple_events(\n",
    "    event_times=MUSK_TWEET_TIMES,\n",
    "    data_files=data_files,\n",
    "    event_window=(0, +60),\n",
    "    estimation_window=(-240, -60),\n",
    "    result_file_format=\"results_sent_single/sent_{}.xlsx\",\n",
    ")"
   ]
  },
  {
   "cell_type": "markdown",
   "metadata": {},
   "source": [
    "### Aggregate events"
   ]
  },
  {
   "cell_type": "code",
   "execution_count": null,
   "metadata": {},
   "outputs": [],
   "source": [
    "file_name = \"sent_aggr_m240_m60_0060\"\n",
    "os.makedirs(\"results_sent\", exist_ok=True)\n",
    "\n",
    "result = aggregator.aggregate(\n",
    "    result_file=f\"results_sent/{file_name}.xlsx\",\n",
    "    asterisks=False,\n",
    "    rounding=8\n",
    ")\n",
    "result.to_csv(f\"ar_data/{file_name}.csv\", index=True)"
   ]
  },
  {
   "cell_type": "code",
   "execution_count": null,
   "metadata": {},
   "outputs": [],
   "source": []
  }
 ],
 "metadata": {
  "kernelspec": {
   "display_name": "musk",
   "language": "python",
   "name": "python3"
  },
  "language_info": {
   "codemirror_mode": {
    "name": "ipython",
    "version": 3
   },
   "file_extension": ".py",
   "mimetype": "text/x-python",
   "name": "python",
   "nbconvert_exporter": "python",
   "pygments_lexer": "ipython3",
   "version": "3.10.14"
  }
 },
 "nbformat": 4,
 "nbformat_minor": 2
}
